{
 "cells": [
  {
   "cell_type": "markdown",
   "metadata": {},
   "source": [
    "Q1.Write a program which will find all such numbers which are divisible by 7 but are not a multiple of 5, between 2000 and 3200 (both included). The numbers obtained should be printed in a comma-separated sequence on a single line."
   ]
  },
  {
   "cell_type": "code",
   "execution_count": 5,
   "metadata": {},
   "outputs": [
    {
     "name": "stdout",
     "output_type": "stream",
     "text": [
      "3199,"
     ]
    }
   ],
   "source": [
    "x=0;\n",
    "for i in range(2000, 3201):\n",
    "    if i % 7 == 0 and i % 5 !=0:\n",
    "        x=i\n",
    "print(x, end=',')"
   ]
  },
  {
   "cell_type": "markdown",
   "metadata": {},
   "source": [
    "Q2.Write a Python program to accept the user's first and last name and then getting them printed in the the reverse order with a space between first name and last name.\n",
    "        "
   ]
  },
  {
   "cell_type": "code",
   "execution_count": 6,
   "metadata": {},
   "outputs": [
    {
     "name": "stdout",
     "output_type": "stream",
     "text": [
      "Enter your first name:Karthik\n",
      "Enter your last name:Konanki\n",
      "First and Last Name:  Karthik Konanki\n",
      "Full Name:  Karthik Konanki\n",
      "Reversed Name:  kihtraK iknanoK\n",
      "Reversed Full Name:  iknanoK kihtraK\n"
     ]
    }
   ],
   "source": [
    "FirstName = input(\"Enter your first name:\")\n",
    "LastName = input(\"Enter your last name:\")\n",
    "FullName = FirstName + \" \" + LastName\n",
    "\n",
    "print(\"First and Last Name: \",FirstName,LastName)\n",
    "print(\"Full Name: \",FullName)\n",
    "print(\"Reversed Name: \", FirstName[::-1], LastName[::-1])\n",
    "print(\"Reversed Full Name: \", FullName[::-1])"
   ]
  },
  {
   "cell_type": "markdown",
   "metadata": {},
   "source": [
    "Q3.Write a Python program to find the volume of a sphere with diameter 12 cm.Formula: V=4/3 π r3"
   ]
  },
  {
   "cell_type": "code",
   "execution_count": 7,
   "metadata": {},
   "outputs": [
    {
     "name": "stdout",
     "output_type": "stream",
     "text": [
      "Volume of Sphere = 904.778684 cm³\n"
     ]
    }
   ],
   "source": [
    "import math\n",
    "d=12\n",
    "v = (4/3)*(math.pi)*(d/2)**3\n",
    "print(\"Volume of Sphere = %f cm\\u00b3\" % v) #u00b3 - source view from google"
   ]
  },
  {
   "cell_type": "code",
   "execution_count": null,
   "metadata": {},
   "outputs": [],
   "source": []
  }
 ],
 "metadata": {
  "kernelspec": {
   "display_name": "Python 3",
   "language": "python",
   "name": "python3"
  },
  "language_info": {
   "codemirror_mode": {
    "name": "ipython",
    "version": 3
   },
   "file_extension": ".py",
   "mimetype": "text/x-python",
   "name": "python",
   "nbconvert_exporter": "python",
   "pygments_lexer": "ipython3",
   "version": "3.8.3"
  }
 },
 "nbformat": 4,
 "nbformat_minor": 4
}
